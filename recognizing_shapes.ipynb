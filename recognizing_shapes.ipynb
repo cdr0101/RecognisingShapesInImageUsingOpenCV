{
 "cells": [
  {
   "cell_type": "markdown",
   "metadata": {},
   "source": [
    "Recognizing Shapes in Objects with OpenCV\n",
    "=========================================\n"
   ]
  },
  {
   "cell_type": "markdown",
   "metadata": {},
   "source": [
    "Import libraries."
   ]
  },
  {
   "cell_type": "code",
   "execution_count": 1,
   "metadata": {},
   "outputs": [],
   "source": [
    "import cv2 # OpenCV lib for cv tasks\n",
    "import numpy as np # for numerical computing\n",
    "import os # imports os module to work with file paths & directories"
   ]
  },
  {
   "cell_type": "markdown",
   "metadata": {},
   "source": [
    "Image filenames."
   ]
  },
  {
   "cell_type": "code",
   "execution_count": 2,
   "metadata": {},
   "outputs": [],
   "source": [
    "\n",
    "files = (              # tuple having 4 imgs \n",
    "    'subway.jpg',\n",
    "    'breakfast.jpg',\n",
    "    'dinner.jpg',\n",
    "    'building.jpg',\n",
    ")\n",
    "f = os.path.join('images', files[0]) # path made by joining \"subway.jpg\" with dir \"images\""
   ]
  },
  {
   "cell_type": "markdown",
   "metadata": {},
   "source": [
    "Define a function for viewing images."
   ]
  },
  {
   "cell_type": "code",
   "execution_count": 3,
   "metadata": {},
   "outputs": [],
   "source": [
    "def view_image(i):\n",
    "    cv2.imshow('view',i) # to show image \n",
    "    #view is the window name \n",
    "    #i is the img data to be displayed\n",
    "    #additional arg: flags: cv2.WINDOW_NORMAL: Allows the user to resize the window (default).\n",
    "                          # cv2.WINDOW_AUTOSIZE: Automatically adjusts the window size to fit the image.\n",
    "                          # cv2.WINDOW_FULLSCREEN: Opens the window in fullscreen mode.\n",
    "                          # cv2.WINDOW_OPENGL: Uses OpenGL backend for rendering.\n",
    "    cv2.waitKey(0) #wait until a key is pressed\n",
    "    cv2.destroyAllWindows() # closes all opencv windows"
   ]
  },
  {
   "cell_type": "markdown",
   "metadata": {},
   "source": [
    "Read an image from file."
   ]
  },
  {
   "cell_type": "code",
   "execution_count": 4,
   "metadata": {},
   "outputs": [],
   "source": [
    "i=cv2.imread(f) # reads img from path f  \n",
    "# if img not read then i=None\n",
    "view_image(i) #fun call"
   ]
  },
  {
   "cell_type": "markdown",
   "metadata": {},
   "source": [
    "Inspect image contents"
   ]
  },
  {
   "cell_type": "code",
   "execution_count": 5,
   "metadata": {},
   "outputs": [
    {
     "name": "stdout",
     "output_type": "stream",
     "text": [
      "(640, 427, 3)\n",
      "[22 24  4]\n"
     ]
    }
   ],
   "source": [
    "print(i.shape) # (height, width, no of channels R/G/B)\n",
    "print(i[0,0,:]) # BGR pixel values at top left corner (Range 0-255)"
   ]
  },
  {
   "cell_type": "markdown",
   "metadata": {},
   "source": [
    "Gray-scale"
   ]
  },
  {
   "cell_type": "code",
   "execution_count": 6,
   "metadata": {},
   "outputs": [
    {
     "name": "stdout",
     "output_type": "stream",
     "text": [
      "(640, 427)\n",
      "18\n"
     ]
    }
   ],
   "source": [
    "i_gray=cv2.cvtColor(i,cv2.COLOR_BGR2GRAY) # convert i from BGR to grayscale\n",
    "print(i_gray.shape) # (height, width) # only 1 channel\n",
    "print(i_gray[0,0]) # 1 channel => 1 intensity value\n",
    "view_image(i_gray) # fun call"
   ]
  },
  {
   "cell_type": "markdown",
   "metadata": {},
   "source": [
    "For edge detection"
   ]
  },
  {
   "cell_type": "markdown",
   "metadata": {},
   "source": [
    "X gradient (Horizontal direction)"
   ]
  },
  {
   "cell_type": "code",
   "execution_count": 8,
   "metadata": {},
   "outputs": [],
   "source": [
    "sobelx=cv2.Sobel(i_gray,cv2.CV_64F,1,0) \n",
    "# cv2.CV_64F o/p img datatype: for high precision:\n",
    "    # CV_ => constant defined in OpenCV lib\n",
    "    # 64F => 64-bit floating-point data type\n",
    "# 1 0 is for order of derivatives in x & y directions\n",
    "abs_sobelx=np.absolute(sobelx) # to get gradient magnitude\n",
    "view_image(abs_sobelx/np.max(abs_sobelx)) # display normalized edge-detected image"
   ]
  },
  {
   "cell_type": "markdown",
   "metadata": {},
   "source": [
    "Y gradient (Vertical direction)"
   ]
  },
  {
   "cell_type": "code",
   "execution_count": 9,
   "metadata": {},
   "outputs": [],
   "source": [
    "sobely=cv2.Sobel(i_gray,cv2.CV_64F,0,1)\n",
    "abs_sobely=np.absolute(sobely)\n",
    "view_image(abs_sobely/np.max(abs_sobely))"
   ]
  },
  {
   "cell_type": "markdown",
   "metadata": {},
   "source": [
    "Magnitude of gradient vector (Horizontal & Vertical direction)"
   ]
  },
  {
   "cell_type": "code",
   "execution_count": 10,
   "metadata": {},
   "outputs": [],
   "source": [
    "magnitude=np.sqrt(sobelx**2 + sobely**2)\n",
    "view_image(magnitude/np.max(magnitude))"
   ]
  },
  {
   "cell_type": "markdown",
   "metadata": {},
   "source": [
    "Canny edge detection"
   ]
  },
  {
   "cell_type": "code",
   "execution_count": 13,
   "metadata": {},
   "outputs": [],
   "source": [
    "edges=cv2.Canny(i_gray,200,250) # low,high threshold values\n",
    "# Pixels with gradient magnitudes below low threshold are discarded\n",
    "# pixels with gradient magnitudes above high threshold are considered strong edges\n",
    "view_image(edges)"
   ]
  },
  {
   "cell_type": "markdown",
   "metadata": {},
   "source": [
    "Theory: Hough transforms\n",
    "\n",
    "![title](images2/line_diagram.png)\n",
    "\n",
    "![title](images2/accumulator1.png)\n",
    "\n",
    "![title](images2/edge_pixel.png)\n",
    "\n",
    "![title](images2/accumulator2.png)\n",
    "\n",
    "![title](images2/accumulator3.png)\n"
   ]
  },
  {
   "cell_type": "markdown",
   "metadata": {},
   "source": [
    "Hough transform for lines"
   ]
  },
  {
   "cell_type": "code",
   "execution_count": 14,
   "metadata": {},
   "outputs": [],
   "source": [
    "lines=cv2.HoughLinesP(\n",
    "edges,\n",
    "rho=1, # Distance resolution of accumulator in pixels # smaller value higher accuracy but higher computational complexity # default 1 pixel\n",
    "theta=1. * np.pi/100.0, #resolution of angle measurement in radians # smaller value higher accuracy but higher computational complexity # default pi/180\n",
    "threshold=20, # minimum number of votes (intersections in Hough space) required to detect a line\n",
    "# lower value more lines but can be noisy\n",
    "# higher value less no of lines\n",
    "minLineLength=25, # min len for valid line (reduce noise)\n",
    "maxLineGap=5,) # max gap btw segments to be treated as single line # gap less than this would merge segments into single line\n",
    "# higher value => more segments connected => no of lines detected less\n",
    "i_lines=i.copy() # copy of original img\n",
    "for l in lines:\n",
    "    x1,y1,x2,y2=l[0]\n",
    "    cv2.line(i_lines,(x1,y1),(x2,y2),(0,0,255),thickness=3) # img data, 2 coordinates for line, line color, line thickness\n",
    "view_image(i_lines)"
   ]
  },
  {
   "cell_type": "markdown",
   "metadata": {},
   "source": [
    "Hough transform for circles"
   ]
  },
  {
   "cell_type": "code",
   "execution_count": 15,
   "metadata": {},
   "outputs": [],
   "source": [
    "# gives irrelevant circles as well...do on blur img\n",
    "circles=cv2.HoughCircles(\n",
    "i_gray,\n",
    "method=cv2.HOUGH_GRADIENT,\n",
    "dp=2, #  ratio of img resolution to accumulator resolution \n",
    "# 2 => accumulator has half resolution of i/p img (speed up computation)\n",
    "minDist=35, # min distance btw centers of detected circles (avoid detecting same circle again) \n",
    "# if distance btw 2 circle centres is less than this then weaker is discarded\n",
    "param1=150, # higher threshold of Canny edge detector used in circle detection algo\n",
    "# controls sensitivity of edge detection (higher value =>fewer circles detected)\n",
    "param2=40, # represents accumulator threshold for circle detection\n",
    "# controls min no of votes reqd for circle to be detected (higher value =>fewer circles detected)\n",
    "minRadius=15,\n",
    "maxRadius=25)\n",
    "i_circles=i.copy()\n",
    "for x,y,r in circles[0]:\n",
    "    cv2.circle(\n",
    "    i_circles,\n",
    "    (x,y), # center coordinates\n",
    "    int(r), # radius\n",
    "    (0,0,255), # color of circle\n",
    "    thickness=3) # circle outline\n",
    "    view_image(i_circles)"
   ]
  },
  {
   "cell_type": "markdown",
   "metadata": {},
   "source": [
    "Blur the image first"
   ]
  },
  {
   "cell_type": "code",
   "execution_count": 16,
   "metadata": {},
   "outputs": [],
   "source": [
    "i_blurred=cv2.GaussianBlur(\n",
    "i_gray,\n",
    "ksize=(21,21), #  kernel size 21x21 pixels # how much smoothing is applied to img # Larger kernel sizes => more smoothing.\n",
    "sigmaX=0,) # sd of Gaussian distribution in x direction\n",
    "# 0 => OpenCV should automatically calculate sd based on kernel size (21, 21)\n",
    "# sd controls extent of blurring......larger values =>more blurring\n",
    "view_image(i_blurred)"
   ]
  },
  {
   "cell_type": "markdown",
   "metadata": {},
   "source": [
    "Circle detection on blurred image"
   ]
  },
  {
   "cell_type": "code",
   "execution_count": 17,
   "metadata": {},
   "outputs": [],
   "source": [
    "circles=cv2.HoughCircles(\n",
    "i_blurred,\n",
    "method=cv2.HOUGH_GRADIENT,\n",
    "dp=2,\n",
    "minDist=35,\n",
    "param1=150,\n",
    "param2=40,\n",
    "minRadius=15,\n",
    "maxRadius=25)\n",
    "i_circles=i.copy()\n",
    "for x,y,r in circles[0]:\n",
    "    cv2.circle(\n",
    "    i_circles,\n",
    "    (x,y),\n",
    "    int(r),\n",
    "    (0,0,255),\n",
    "    thickness=3)\n",
    "    view_image(i_circles)"
   ]
  }
 ],
 "metadata": {
  "kernelspec": {
   "display_name": "Python 3",
   "language": "python",
   "name": "python3"
  },
  "language_info": {
   "codemirror_mode": {
    "name": "ipython",
    "version": 3
   },
   "file_extension": ".py",
   "mimetype": "text/x-python",
   "name": "python",
   "nbconvert_exporter": "python",
   "pygments_lexer": "ipython3",
   "version": "3.6.9"
  }
 },
 "nbformat": 4,
 "nbformat_minor": 4
}
